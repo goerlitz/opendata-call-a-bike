{
 "cells": [
  {
   "cell_type": "markdown",
   "metadata": {},
   "source": [
    "# Call-a-bike Data Analysis\n",
    "\n",
    "Data Source: https://data.deutschebahn.com/dataset/data-call-a-bike\n",
    "\n",
    "**Objective**\n",
    "\n",
    "* Analyse call-a-bike booking data in Hamburg (55% of bookings in BOOKING csv file.)"
   ]
  },
  {
   "cell_type": "code",
   "execution_count": 1,
   "metadata": {},
   "outputs": [],
   "source": [
    "import os.path\n",
    "import time\n",
    "import pandas as pd\n",
    "import numpy as np\n",
    "import matplotlib.pyplot as plt\n",
    "import seaborn as sns"
   ]
  },
  {
   "cell_type": "code",
   "execution_count": 2,
   "metadata": {},
   "outputs": [
    {
     "name": "stdout",
     "output_type": "stream",
     "text": [
      "took 44.3 seconds\n"
     ]
    }
   ],
   "source": [
    "filename_HH = '../data/OPENDATA_BOOKING_CALL_A_BIKE_HH.csv'\n",
    "\n",
    "start = time.time()\n",
    "if os.path.isfile(filename_HH):\n",
    "    df = pd.read_csv(filename_HH)\n",
    "else:\n",
    "    df = pd.read_csv('../data/OPENDATA_BOOKING_CALL_A_BIKE.csv', sep=';')\n",
    "    df = df[df.CITY_RENTAL_ZONE == \"Hamburg\"]\n",
    "    df.to_csv(filename_HH, index=False)\n",
    "end = time.time()\n",
    "print(\"took %.1f seconds\" % (end-start))"
   ]
  },
  {
   "cell_type": "code",
   "execution_count": 3,
   "metadata": {},
   "outputs": [
    {
     "name": "stdout",
     "output_type": "stream",
     "text": [
      "<class 'pandas.core.frame.DataFrame'>\n",
      "RangeIndex: 8942261 entries, 0 to 8942260\n",
      "Data columns (total 17 columns):\n",
      "BOOKING_HAL_ID               int64\n",
      "CATEGORY_HAL_ID              int64\n",
      "VEHICLE_HAL_ID               int64\n",
      "CUSTOMER_HAL_ID              object\n",
      "DATE_BOOKING                 object\n",
      "DATE_FROM                    object\n",
      "DATE_UNTIL                   object\n",
      "COMPUTE_EXTRA_BOOKING_FEE    object\n",
      "TRAVERSE_USE                 object\n",
      "DISTANCE                     float64\n",
      "START_RENTAL_ZONE            object\n",
      "START_RENTAL_ZONE_HAL_ID     float64\n",
      "END_RENTAL_ZONE              object\n",
      "END_RENTAL_ZONE_HAL_ID       float64\n",
      "RENTAL_ZONE_HAL_SRC          object\n",
      "CITY_RENTAL_ZONE             object\n",
      "TECHNICAL_INCOME_CHANNEL     object\n",
      "dtypes: float64(3), int64(3), object(11)\n",
      "memory usage: 1.1+ GB\n"
     ]
    }
   ],
   "source": [
    "df.info()"
   ]
  },
  {
   "cell_type": "code",
   "execution_count": 4,
   "metadata": {},
   "outputs": [
    {
     "data": {
      "text/plain": [
       "BOOKING_HAL_ID               8942261\n",
       "CATEGORY_HAL_ID                    1\n",
       "VEHICLE_HAL_ID                  2689\n",
       "CUSTOMER_HAL_ID               270162\n",
       "DATE_BOOKING                 8306518\n",
       "DATE_FROM                    8306518\n",
       "DATE_UNTIL                   8293164\n",
       "COMPUTE_EXTRA_BOOKING_FEE          2\n",
       "TRAVERSE_USE                       1\n",
       "DISTANCE                           1\n",
       "START_RENTAL_ZONE                216\n",
       "START_RENTAL_ZONE_HAL_ID         323\n",
       "END_RENTAL_ZONE                  216\n",
       "END_RENTAL_ZONE_HAL_ID           218\n",
       "RENTAL_ZONE_HAL_SRC                1\n",
       "CITY_RENTAL_ZONE                   1\n",
       "TECHNICAL_INCOME_CHANNEL         227\n",
       "dtype: int64"
      ]
     },
     "execution_count": 4,
     "metadata": {},
     "output_type": "execute_result"
    }
   ],
   "source": [
    "df.nunique()"
   ]
  },
  {
   "cell_type": "code",
   "execution_count": 5,
   "metadata": {},
   "outputs": [
    {
     "data": {
      "text/html": [
       "<div>\n",
       "<style scoped>\n",
       "    .dataframe tbody tr th:only-of-type {\n",
       "        vertical-align: middle;\n",
       "    }\n",
       "\n",
       "    .dataframe tbody tr th {\n",
       "        vertical-align: top;\n",
       "    }\n",
       "\n",
       "    .dataframe thead th {\n",
       "        text-align: right;\n",
       "    }\n",
       "</style>\n",
       "<table border=\"1\" class=\"dataframe\">\n",
       "  <thead>\n",
       "    <tr style=\"text-align: right;\">\n",
       "      <th></th>\n",
       "      <th>BOOKING_HAL_ID</th>\n",
       "      <th>CATEGORY_HAL_ID</th>\n",
       "      <th>VEHICLE_HAL_ID</th>\n",
       "      <th>CUSTOMER_HAL_ID</th>\n",
       "      <th>DATE_BOOKING</th>\n",
       "      <th>DATE_FROM</th>\n",
       "      <th>DATE_UNTIL</th>\n",
       "      <th>COMPUTE_EXTRA_BOOKING_FEE</th>\n",
       "      <th>TRAVERSE_USE</th>\n",
       "      <th>DISTANCE</th>\n",
       "      <th>START_RENTAL_ZONE</th>\n",
       "      <th>START_RENTAL_ZONE_HAL_ID</th>\n",
       "      <th>END_RENTAL_ZONE</th>\n",
       "      <th>END_RENTAL_ZONE_HAL_ID</th>\n",
       "      <th>RENTAL_ZONE_HAL_SRC</th>\n",
       "      <th>CITY_RENTAL_ZONE</th>\n",
       "      <th>TECHNICAL_INCOME_CHANNEL</th>\n",
       "    </tr>\n",
       "  </thead>\n",
       "  <tbody>\n",
       "    <tr>\n",
       "      <th>0</th>\n",
       "      <td>21366843</td>\n",
       "      <td>51000</td>\n",
       "      <td>143517</td>\n",
       "      <td>A821059B555C7764A2FF801180874A2FCB326222</td>\n",
       "      <td>2014-01-01 00:34:54</td>\n",
       "      <td>2014-01-01 00:34:54</td>\n",
       "      <td>2014-01-01 00:50:14</td>\n",
       "      <td>Nein</td>\n",
       "      <td>Nein</td>\n",
       "      <td>0.0</td>\n",
       "      <td>U-Bahn Baumwall</td>\n",
       "      <td>214170.0</td>\n",
       "      <td>Mönckebergstraße / Rosenstraße</td>\n",
       "      <td>131880.0</td>\n",
       "      <td>Standort</td>\n",
       "      <td>Hamburg</td>\n",
       "      <td>iPhone SRH</td>\n",
       "    </tr>\n",
       "    <tr>\n",
       "      <th>1</th>\n",
       "      <td>21367069</td>\n",
       "      <td>51000</td>\n",
       "      <td>119830</td>\n",
       "      <td>1EBC930DB407ACEAE2FDE23A6CA40492EA3DFBB2</td>\n",
       "      <td>2014-01-01 01:39:55</td>\n",
       "      <td>2014-01-01 01:39:55</td>\n",
       "      <td>2014-01-01 01:57:27</td>\n",
       "      <td>Nein</td>\n",
       "      <td>Nein</td>\n",
       "      <td>0.0</td>\n",
       "      <td>Bahnhof Altona Ost/Max-Brauer-Allee</td>\n",
       "      <td>131646.0</td>\n",
       "      <td>Schulterblatt/Eifflerstraße</td>\n",
       "      <td>131648.0</td>\n",
       "      <td>Standort</td>\n",
       "      <td>Hamburg</td>\n",
       "      <td>Android SRH</td>\n",
       "    </tr>\n",
       "    <tr>\n",
       "      <th>2</th>\n",
       "      <td>21367072</td>\n",
       "      <td>51000</td>\n",
       "      <td>143501</td>\n",
       "      <td>7AD2C1B70137479062A6DD73815835986677BB2D</td>\n",
       "      <td>2014-01-01 01:40:20</td>\n",
       "      <td>2014-01-01 01:40:20</td>\n",
       "      <td>2014-01-01 01:53:09</td>\n",
       "      <td>Nein</td>\n",
       "      <td>Nein</td>\n",
       "      <td>0.0</td>\n",
       "      <td>Weidestraße/Biedermannplatz</td>\n",
       "      <td>211922.0</td>\n",
       "      <td>Jarrestraße / Rambatzweg</td>\n",
       "      <td>138376.0</td>\n",
       "      <td>Standort</td>\n",
       "      <td>Hamburg</td>\n",
       "      <td>Techniker HH_119 (-2334-)</td>\n",
       "    </tr>\n",
       "    <tr>\n",
       "      <th>3</th>\n",
       "      <td>21367118</td>\n",
       "      <td>51000</td>\n",
       "      <td>117519</td>\n",
       "      <td>A1062EF019B4E3E71C551572F1B284D55440E3C4</td>\n",
       "      <td>2014-01-01 01:56:00</td>\n",
       "      <td>2014-01-01 01:56:00</td>\n",
       "      <td>2014-01-01 01:56:41</td>\n",
       "      <td>Nein</td>\n",
       "      <td>Nein</td>\n",
       "      <td>0.0</td>\n",
       "      <td>Große Bergstraße / Jessenstraße</td>\n",
       "      <td>131649.0</td>\n",
       "      <td>Große Bergstraße / Jessenstraße</td>\n",
       "      <td>131649.0</td>\n",
       "      <td>Standort</td>\n",
       "      <td>Hamburg</td>\n",
       "      <td>Terminal HH_46 (-2115-)</td>\n",
       "    </tr>\n",
       "    <tr>\n",
       "      <th>4</th>\n",
       "      <td>21367155</td>\n",
       "      <td>51000</td>\n",
       "      <td>108641</td>\n",
       "      <td>4F4F752203EA6FC872D576E9289C4E1B362E16F6</td>\n",
       "      <td>2014-01-01 02:05:55</td>\n",
       "      <td>2014-01-01 02:05:55</td>\n",
       "      <td>2014-01-01 02:13:49</td>\n",
       "      <td>Nein</td>\n",
       "      <td>Nein</td>\n",
       "      <td>0.0</td>\n",
       "      <td>Mundsburg / Schürbeker Straße</td>\n",
       "      <td>140799.0</td>\n",
       "      <td>Bartholomäusstraße/Beim Alten Schützenhof</td>\n",
       "      <td>211923.0</td>\n",
       "      <td>Standort</td>\n",
       "      <td>Hamburg</td>\n",
       "      <td>iPhone SRH</td>\n",
       "    </tr>\n",
       "  </tbody>\n",
       "</table>\n",
       "</div>"
      ],
      "text/plain": [
       "   BOOKING_HAL_ID  CATEGORY_HAL_ID  VEHICLE_HAL_ID  \\\n",
       "0        21366843            51000          143517   \n",
       "1        21367069            51000          119830   \n",
       "2        21367072            51000          143501   \n",
       "3        21367118            51000          117519   \n",
       "4        21367155            51000          108641   \n",
       "\n",
       "                            CUSTOMER_HAL_ID         DATE_BOOKING  \\\n",
       "0  A821059B555C7764A2FF801180874A2FCB326222  2014-01-01 00:34:54   \n",
       "1  1EBC930DB407ACEAE2FDE23A6CA40492EA3DFBB2  2014-01-01 01:39:55   \n",
       "2  7AD2C1B70137479062A6DD73815835986677BB2D  2014-01-01 01:40:20   \n",
       "3  A1062EF019B4E3E71C551572F1B284D55440E3C4  2014-01-01 01:56:00   \n",
       "4  4F4F752203EA6FC872D576E9289C4E1B362E16F6  2014-01-01 02:05:55   \n",
       "\n",
       "             DATE_FROM           DATE_UNTIL COMPUTE_EXTRA_BOOKING_FEE  \\\n",
       "0  2014-01-01 00:34:54  2014-01-01 00:50:14                      Nein   \n",
       "1  2014-01-01 01:39:55  2014-01-01 01:57:27                      Nein   \n",
       "2  2014-01-01 01:40:20  2014-01-01 01:53:09                      Nein   \n",
       "3  2014-01-01 01:56:00  2014-01-01 01:56:41                      Nein   \n",
       "4  2014-01-01 02:05:55  2014-01-01 02:13:49                      Nein   \n",
       "\n",
       "  TRAVERSE_USE  DISTANCE                    START_RENTAL_ZONE  \\\n",
       "0         Nein       0.0                      U-Bahn Baumwall   \n",
       "1         Nein       0.0  Bahnhof Altona Ost/Max-Brauer-Allee   \n",
       "2         Nein       0.0          Weidestraße/Biedermannplatz   \n",
       "3         Nein       0.0      Große Bergstraße / Jessenstraße   \n",
       "4         Nein       0.0        Mundsburg / Schürbeker Straße   \n",
       "\n",
       "   START_RENTAL_ZONE_HAL_ID                            END_RENTAL_ZONE  \\\n",
       "0                  214170.0             Mönckebergstraße / Rosenstraße   \n",
       "1                  131646.0                Schulterblatt/Eifflerstraße   \n",
       "2                  211922.0                   Jarrestraße / Rambatzweg   \n",
       "3                  131649.0            Große Bergstraße / Jessenstraße   \n",
       "4                  140799.0  Bartholomäusstraße/Beim Alten Schützenhof   \n",
       "\n",
       "   END_RENTAL_ZONE_HAL_ID RENTAL_ZONE_HAL_SRC CITY_RENTAL_ZONE  \\\n",
       "0                131880.0            Standort          Hamburg   \n",
       "1                131648.0            Standort          Hamburg   \n",
       "2                138376.0            Standort          Hamburg   \n",
       "3                131649.0            Standort          Hamburg   \n",
       "4                211923.0            Standort          Hamburg   \n",
       "\n",
       "    TECHNICAL_INCOME_CHANNEL  \n",
       "0                 iPhone SRH  \n",
       "1                Android SRH  \n",
       "2  Techniker HH_119 (-2334-)  \n",
       "3    Terminal HH_46 (-2115-)  \n",
       "4                 iPhone SRH  "
      ]
     },
     "execution_count": 5,
     "metadata": {},
     "output_type": "execute_result"
    }
   ],
   "source": [
    "df.head()"
   ]
  },
  {
   "cell_type": "markdown",
   "metadata": {},
   "source": [
    "# Data Pre-processing"
   ]
  },
  {
   "cell_type": "code",
   "execution_count": 6,
   "metadata": {},
   "outputs": [],
   "source": [
    "# parse date strings\n",
    "for col in ['DATE_BOOKING', 'DATE_FROM', 'DATE_UNTIL']:\n",
    "    df[col] = pd.to_datetime(df[col])\n",
    "\n",
    "# add features\n",
    "df['booking_date'] = df.DATE_BOOKING.dt.date\n",
    "df['rented_minutes'] = np.floor((df.DATE_UNTIL - df.DATE_FROM).dt.seconds / 60).astype(int)"
   ]
  },
  {
   "cell_type": "markdown",
   "metadata": {},
   "source": [
    "# Rental Time\n",
    "\n",
    "* Per Booking:"
   ]
  },
  {
   "cell_type": "code",
   "execution_count": 7,
   "metadata": {},
   "outputs": [
    {
     "name": "stdout",
     "output_type": "stream",
     "text": [
      "       rented_minutes\n",
      "count         8942261\n",
      "mean               20\n",
      "std                56\n",
      "min                 0\n",
      "25%                 7\n",
      "50%                12\n",
      "75%                20\n",
      "max              1439\n"
     ]
    }
   ],
   "source": [
    "print(pd.DataFrame(df.rented_minutes.describe().astype(int)))"
   ]
  },
  {
   "cell_type": "markdown",
   "metadata": {},
   "source": [
    "* Per User and Day:"
   ]
  },
  {
   "cell_type": "code",
   "execution_count": 8,
   "metadata": {},
   "outputs": [
    {
     "name": "stdout",
     "output_type": "stream",
     "text": [
      "       rented_minutes\n",
      "count         5354686\n",
      "mean               34\n",
      "std                89\n",
      "min                 0\n",
      "25%                 9\n",
      "50%                17\n",
      "75%                32\n",
      "max             27626\n"
     ]
    }
   ],
   "source": [
    "s_user_daily_rented_minutes = (df.groupby(['CUSTOMER_HAL_ID', 'booking_date'])\n",
    "                                 .rented_minutes.sum()\n",
    "                                 .reset_index()\n",
    "                                 .rented_minutes\n",
    "                              )\n",
    "print(pd.DataFrame(s_user_daily_rented_minutes.describe().astype(int)))"
   ]
  },
  {
   "cell_type": "code",
   "execution_count": 9,
   "metadata": {},
   "outputs": [
    {
     "data": {
      "image/png": "[encoded data removed]",
      "text/plain": [
       "<Figure size 432x288 with 1 Axes>"
      ]
     },
     "metadata": {
      "needs_background": "light"
     },
     "output_type": "display_data"
    }
   ],
   "source": [
    "%matplotlib inline\n",
    "from matplotlib.ticker import FuncFormatter\n",
    "\n",
    "fig, ax = plt.subplots()\n",
    "sns.lineplot(data=df.rented_minutes.value_counts(), label='individual bookings')\n",
    "sns.lineplot(data=s_user_daily_rented_minutes.value_counts(), label='sum per user + day')\n",
    "plt.xlabel('rental time (minutes)')\n",
    "plt.title('Density distribution of bike rental times')\n",
    "ax.get_yaxis().set_major_formatter(FuncFormatter(lambda x, p: format(int(x), ',')))\n",
    "plt.legend()\n",
    "plt.xlim(0, 60);"
   ]
  },
  {
   "cell_type": "code",
   "execution_count": 10,
   "metadata": {},
   "outputs": [],
   "source": [
    "#df = df[(df.rented_minutes > 0) & (df.rented_minutes <= 120)]  # max 2h rentals"
   ]
  },
  {
   "cell_type": "markdown",
   "metadata": {},
   "source": [
    "# Data Analysis"
   ]
  },
  {
   "cell_type": "code",
   "execution_count": 11,
   "metadata": {},
   "outputs": [
    {
     "data": {
      "image/png": "[encoded data removed]",
      "text/plain": [
       "<Figure size 432x288 with 1 Axes>"
      ]
     },
     "metadata": {
      "needs_background": "light"
     },
     "output_type": "display_data"
    }
   ],
   "source": [
    "day_order = [\"Monday\", \"Tuesday\", \"Wednesday\", \"Thursday\", \"Friday\", \"Saturday\", \"Sunday\"]\n",
    "weekdays = df.DATE_BOOKING.dt.weekday_name.value_counts()\n",
    "weekdays = weekdays.loc[day_order]\n",
    "sns.barplot(x=weekdays.index, y=weekdays, color='grey');"
   ]
  },
  {
   "cell_type": "code",
   "execution_count": 12,
   "metadata": {},
   "outputs": [
    {
     "data": {
      "image/png": "[encoded data removed]",
      "text/plain": [
       "<Figure size 432x288 with 1 Axes>"
      ]
     },
     "metadata": {
      "needs_background": "light"
     },
     "output_type": "display_data"
    }
   ],
   "source": [
    "hour_of_day = df.DATE_BOOKING.dt.hour.value_counts()\n",
    "sns.barplot(x=hour_of_day.index, y=hour_of_day, color='grey');"
   ]
  },
  {
   "cell_type": "code",
   "execution_count": 13,
   "metadata": {},
   "outputs": [],
   "source": [
    "df_bookings = pd.DataFrame({'weekday': df.DATE_BOOKING.dt.weekday_name,\n",
    "                            'hour_of_day': df.DATE_BOOKING.dt.hour}\n",
    "                          )\n",
    "df_weekday_hour = df_bookings.groupby(['weekday','hour_of_day']).size().reset_index()\n",
    "df_weekday_hour = df_weekday_hour.set_index('weekday').loc[day_order].reset_index()\n",
    "df_weekday_hour.columns = ['weekday','hour_of_day','count']"
   ]
  },
  {
   "cell_type": "code",
   "execution_count": 14,
   "metadata": {},
   "outputs": [
    {
     "data": {
      "image/png": "[encoded data removed]",
      "text/plain": [
       "<Figure size 576x288 with 7 Axes>"
      ]
     },
     "metadata": {
      "needs_background": "light"
     },
     "output_type": "display_data"
    }
   ],
   "source": [
    "g = sns.FacetGrid(df_weekday_hour, col=\"weekday\", col_wrap=4, height=2, aspect=1)\n",
    "g = g.map(plt.plot, \"hour_of_day\", \"count\")\n",
    "g.set_titles(col_template = '{col_name}')\n",
    "plt.subplots_adjust(top=0.85)\n",
    "g.fig.suptitle('Booking Peaks');"
   ]
  },
  {
   "cell_type": "markdown",
   "metadata": {},
   "source": [
    "## Top Ride Origins"
   ]
  },
  {
   "cell_type": "code",
   "execution_count": 15,
   "metadata": {},
   "outputs": [
    {
     "data": {
      "text/plain": [
       "Allende-Platz/Grindelhof         177195\n",
       "Schulterblatt/Eifflerstraße      163699\n",
       "Goldbekplatz / Semperstraße      130964\n",
       "Jungfernstieg / Ballindamm       130025\n",
       "Mundsburg / Schürbeker Straße    126885\n",
       "Name: START_RENTAL_ZONE, dtype: int64"
      ]
     },
     "execution_count": 15,
     "metadata": {},
     "output_type": "execute_result"
    }
   ],
   "source": [
    "df.START_RENTAL_ZONE.value_counts().head()"
   ]
  },
  {
   "cell_type": "markdown",
   "metadata": {},
   "source": [
    "## Top Ride Destinations"
   ]
  },
  {
   "cell_type": "code",
   "execution_count": 16,
   "metadata": {},
   "outputs": [
    {
     "data": {
      "text/plain": [
       "Allende-Platz/Grindelhof       178857\n",
       "Schulterblatt/Eifflerstraße    163851\n",
       "Jungfernstieg / Ballindamm     136375\n",
       "Goldbekplatz / Semperstraße    132317\n",
       "Landungsbrücke/Hafentor        131155\n",
       "Name: END_RENTAL_ZONE, dtype: int64"
      ]
     },
     "execution_count": 16,
     "metadata": {},
     "output_type": "execute_result"
    }
   ],
   "source": [
    "df.END_RENTAL_ZONE.value_counts().head()"
   ]
  },
  {
   "cell_type": "markdown",
   "metadata": {},
   "source": [
    "## Top Ride Relations"
   ]
  },
  {
   "cell_type": "code",
   "execution_count": 17,
   "metadata": {},
   "outputs": [
    {
     "data": {
      "text/html": [
       "<div>\n",
       "<style scoped>\n",
       "    .dataframe tbody tr th:only-of-type {\n",
       "        vertical-align: middle;\n",
       "    }\n",
       "\n",
       "    .dataframe tbody tr th {\n",
       "        vertical-align: top;\n",
       "    }\n",
       "\n",
       "    .dataframe thead tr th {\n",
       "        text-align: left;\n",
       "    }\n",
       "</style>\n",
       "<table border=\"1\" class=\"dataframe\">\n",
       "  <thead>\n",
       "    <tr>\n",
       "      <th></th>\n",
       "      <th>START_RENTAL_ZONE</th>\n",
       "      <th>END_RENTAL_ZONE</th>\n",
       "      <th colspan=\"7\" halign=\"left\">rented_minutes</th>\n",
       "    </tr>\n",
       "    <tr>\n",
       "      <th></th>\n",
       "      <th></th>\n",
       "      <th></th>\n",
       "      <th>count</th>\n",
       "      <th>min</th>\n",
       "      <th>max</th>\n",
       "      <th>mean</th>\n",
       "      <th>median</th>\n",
       "      <th>std</th>\n",
       "      <th>var</th>\n",
       "    </tr>\n",
       "  </thead>\n",
       "  <tbody>\n",
       "    <tr>\n",
       "      <th>2800</th>\n",
       "      <td>Bahrenfelder Straße/Völckersstraße</td>\n",
       "      <td>Bahnhof Altona West / Busbahnhof</td>\n",
       "      <td>19852</td>\n",
       "      <td>0</td>\n",
       "      <td>1437</td>\n",
       "      <td>7.009319</td>\n",
       "      <td>4.0</td>\n",
       "      <td>38.390871</td>\n",
       "      <td>1473.859013</td>\n",
       "    </tr>\n",
       "    <tr>\n",
       "      <th>2047</th>\n",
       "      <td>Bahnhof Altona West / Busbahnhof</td>\n",
       "      <td>Bahrenfelder Straße/Völckersstraße</td>\n",
       "      <td>16055</td>\n",
       "      <td>0</td>\n",
       "      <td>1415</td>\n",
       "      <td>7.579259</td>\n",
       "      <td>4.0</td>\n",
       "      <td>31.871617</td>\n",
       "      <td>1015.799981</td>\n",
       "    </tr>\n",
       "    <tr>\n",
       "      <th>26882</th>\n",
       "      <td>Saarlandstraße/Wiesendamm</td>\n",
       "      <td>Schleidenstraße/Osterbekstraße</td>\n",
       "      <td>15731</td>\n",
       "      <td>0</td>\n",
       "      <td>1406</td>\n",
       "      <td>5.041892</td>\n",
       "      <td>3.0</td>\n",
       "      <td>32.302052</td>\n",
       "      <td>1043.422593</td>\n",
       "    </tr>\n",
       "    <tr>\n",
       "      <th>0</th>\n",
       "      <td>Allende-Platz/Grindelhof</td>\n",
       "      <td>Allende-Platz/Grindelhof</td>\n",
       "      <td>15097</td>\n",
       "      <td>0</td>\n",
       "      <td>1430</td>\n",
       "      <td>21.058422</td>\n",
       "      <td>1.0</td>\n",
       "      <td>80.392253</td>\n",
       "      <td>6462.914313</td>\n",
       "    </tr>\n",
       "    <tr>\n",
       "      <th>10704</th>\n",
       "      <td>Goldbekplatz / Semperstraße</td>\n",
       "      <td>Goldbekplatz / Semperstraße</td>\n",
       "      <td>14444</td>\n",
       "      <td>0</td>\n",
       "      <td>1433</td>\n",
       "      <td>32.644697</td>\n",
       "      <td>2.0</td>\n",
       "      <td>91.901608</td>\n",
       "      <td>8445.905600</td>\n",
       "    </tr>\n",
       "    <tr>\n",
       "      <th>18372</th>\n",
       "      <td>Landungsbrücke/Hafentor</td>\n",
       "      <td>Landungsbrücke/Hafentor</td>\n",
       "      <td>13928</td>\n",
       "      <td>0</td>\n",
       "      <td>1438</td>\n",
       "      <td>57.608487</td>\n",
       "      <td>3.0</td>\n",
       "      <td>129.497302</td>\n",
       "      <td>16769.551237</td>\n",
       "    </tr>\n",
       "    <tr>\n",
       "      <th>27119</th>\n",
       "      <td>Schleidenstraße/Osterbekstraße</td>\n",
       "      <td>Saarlandstraße/Wiesendamm</td>\n",
       "      <td>13159</td>\n",
       "      <td>0</td>\n",
       "      <td>1423</td>\n",
       "      <td>5.008815</td>\n",
       "      <td>3.0</td>\n",
       "      <td>32.066541</td>\n",
       "      <td>1028.263032</td>\n",
       "    </tr>\n",
       "    <tr>\n",
       "      <th>6874</th>\n",
       "      <td>Eduard-Rhein-Ufer / Schwanenwik</td>\n",
       "      <td>Eduard-Rhein-Ufer / Schwanenwik</td>\n",
       "      <td>12933</td>\n",
       "      <td>0</td>\n",
       "      <td>1434</td>\n",
       "      <td>27.820150</td>\n",
       "      <td>2.0</td>\n",
       "      <td>82.715755</td>\n",
       "      <td>6841.896201</td>\n",
       "    </tr>\n",
       "    <tr>\n",
       "      <th>27678</th>\n",
       "      <td>Schulterblatt/Eifflerstraße</td>\n",
       "      <td>Schulterblatt/Eifflerstraße</td>\n",
       "      <td>12901</td>\n",
       "      <td>0</td>\n",
       "      <td>1431</td>\n",
       "      <td>24.859468</td>\n",
       "      <td>1.0</td>\n",
       "      <td>92.354623</td>\n",
       "      <td>8529.376451</td>\n",
       "    </tr>\n",
       "    <tr>\n",
       "      <th>30312</th>\n",
       "      <td>U-Bahn Baumwall</td>\n",
       "      <td>Am Kaiserkai/Großer Grasbrook</td>\n",
       "      <td>12793</td>\n",
       "      <td>0</td>\n",
       "      <td>1093</td>\n",
       "      <td>6.708043</td>\n",
       "      <td>5.0</td>\n",
       "      <td>23.527306</td>\n",
       "      <td>553.534126</td>\n",
       "    </tr>\n",
       "  </tbody>\n",
       "</table>\n",
       "</div>"
      ],
      "text/plain": [
       "                        START_RENTAL_ZONE                     END_RENTAL_ZONE  \\\n",
       "                                                                                \n",
       "2800   Bahrenfelder Straße/Völckersstraße    Bahnhof Altona West / Busbahnhof   \n",
       "2047     Bahnhof Altona West / Busbahnhof  Bahrenfelder Straße/Völckersstraße   \n",
       "26882           Saarlandstraße/Wiesendamm      Schleidenstraße/Osterbekstraße   \n",
       "0                Allende-Platz/Grindelhof            Allende-Platz/Grindelhof   \n",
       "10704         Goldbekplatz / Semperstraße         Goldbekplatz / Semperstraße   \n",
       "18372             Landungsbrücke/Hafentor             Landungsbrücke/Hafentor   \n",
       "27119      Schleidenstraße/Osterbekstraße           Saarlandstraße/Wiesendamm   \n",
       "6874      Eduard-Rhein-Ufer / Schwanenwik     Eduard-Rhein-Ufer / Schwanenwik   \n",
       "27678         Schulterblatt/Eifflerstraße         Schulterblatt/Eifflerstraße   \n",
       "30312                     U-Bahn Baumwall       Am Kaiserkai/Großer Grasbrook   \n",
       "\n",
       "      rented_minutes                                                        \n",
       "               count min   max       mean median         std           var  \n",
       "2800           19852   0  1437   7.009319    4.0   38.390871   1473.859013  \n",
       "2047           16055   0  1415   7.579259    4.0   31.871617   1015.799981  \n",
       "26882          15731   0  1406   5.041892    3.0   32.302052   1043.422593  \n",
       "0              15097   0  1430  21.058422    1.0   80.392253   6462.914313  \n",
       "10704          14444   0  1433  32.644697    2.0   91.901608   8445.905600  \n",
       "18372          13928   0  1438  57.608487    3.0  129.497302  16769.551237  \n",
       "27119          13159   0  1423   5.008815    3.0   32.066541   1028.263032  \n",
       "6874           12933   0  1434  27.820150    2.0   82.715755   6841.896201  \n",
       "27678          12901   0  1431  24.859468    1.0   92.354623   8529.376451  \n",
       "30312          12793   0  1093   6.708043    5.0   23.527306    553.534126  "
      ]
     },
     "execution_count": 17,
     "metadata": {},
     "output_type": "execute_result"
    }
   ],
   "source": [
    "relations = (\n",
    "    df.groupby(['START_RENTAL_ZONE', 'END_RENTAL_ZONE'])\n",
    "      .agg({'rented_minutes':['count','min','max','mean','median','std','var']})\n",
    "      .reset_index().sort_values(('rented_minutes','count'), ascending=False)\n",
    ")\n",
    "relations.head(n=10)"
   ]
  },
  {
   "cell_type": "code",
   "execution_count": 18,
   "metadata": {},
   "outputs": [],
   "source": [
    "df_rel = df[df.START_RENTAL_ZONE == 'U-Bahn Baumwall']\n",
    "df_rel = df[df.START_RENTAL_ZONE == 'Hallerstraße / Rohtenbaumchaussee']\n",
    "df_rel = df[(df.START_RENTAL_ZONE == 'Bahrenfelder Straße/Völckersstraße') & (df.END_RENTAL_ZONE == 'Bahnhof Altona West / Busbahnhof')]\n",
    "df_rel = df[(df.START_RENTAL_ZONE == 'Bahnhof Altona West / Busbahnhof') & (df.END_RENTAL_ZONE == 'Bahrenfelder Straße/Völckersstraße')]\n",
    "df_rel = df[(df.START_RENTAL_ZONE == 'U-Bahn Baumwall') & (df.END_RENTAL_ZONE == 'Am Kaiserkai/Großer Grasbrook')]"
   ]
  },
  {
   "cell_type": "code",
   "execution_count": 19,
   "metadata": {},
   "outputs": [],
   "source": [
    "df_rel_stats = pd.DataFrame({'weekday': df_rel.DATE_BOOKING.dt.weekday_name,\n",
    "                            'hour_of_day': df_rel.DATE_BOOKING.dt.hour}\n",
    "                          ).groupby(['weekday','hour_of_day']).size().reset_index()\n",
    "df_rel_stats = df_rel_stats.set_index('weekday').loc[day_order].reset_index()\n",
    "df_rel_stats.columns = ['weekday','hour_of_day','count']"
   ]
  },
  {
   "cell_type": "code",
   "execution_count": 20,
   "metadata": {},
   "outputs": [
    {
     "data": {
      "image/png": "[encoded data removed]",
      "text/plain": [
       "<Figure size 576x288 with 7 Axes>"
      ]
     },
     "metadata": {
      "needs_background": "light"
     },
     "output_type": "display_data"
    }
   ],
   "source": [
    "g = sns.FacetGrid(df_rel_stats, col=\"weekday\", col_wrap=4, height=2, aspect=1)\n",
    "g = g.map(plt.plot, \"hour_of_day\", \"count\")\n",
    "g.set_titles(col_template = '{col_name}')\n",
    "plt.subplots_adjust(top=0.85)\n",
    "g.fig.suptitle(df_rel.START_RENTAL_ZONE.values[0] + ' -> ' + df_rel.END_RENTAL_ZONE.values[0]);"
   ]
  },
  {
   "cell_type": "markdown",
   "metadata": {},
   "source": [
    "# User Analysis"
   ]
  },
  {
   "cell_type": "code",
   "execution_count": 21,
   "metadata": {},
   "outputs": [
    {
     "name": "stdout",
     "output_type": "stream",
     "text": [
      "496D35CFE3F625730E578793269E52D0A45FE53E    3132\n",
      "7439201395BB2E80301974D4D00100F1F8A7AFB4    2799\n",
      "6DF3E96544415EBFF474F968F264E144772F508E    2695\n",
      "5EBBA60A2178EF837A2A2065E05B1A84C9B4FD94    2393\n",
      "BDBE0F11FE2C06152C2D97FF4B02E02D1D962C6E    2263\n",
      "Name: CUSTOMER_HAL_ID, dtype: int64\n"
     ]
    }
   ],
   "source": [
    "top_users = df.CUSTOMER_HAL_ID.value_counts()\n",
    "print(top_users.head())"
   ]
  },
  {
   "cell_type": "code",
   "execution_count": 22,
   "metadata": {},
   "outputs": [
    {
     "data": {
      "text/plain": [
       "Innocentiapark/Oberstraße         423\n",
       "Allende-Platz/Grindelhof          395\n",
       "Universität / Moorweidenstraße    361\n",
       "Isestraße / Hoheluftbrücke        300\n",
       "Heußweg/Wiesenstraße              282\n",
       "Name: START_RENTAL_ZONE, dtype: int64"
      ]
     },
     "execution_count": 22,
     "metadata": {},
     "output_type": "execute_result"
    }
   ],
   "source": [
    "df[df.CUSTOMER_HAL_ID == top_users.index[0]].START_RENTAL_ZONE.value_counts().head()"
   ]
  },
  {
   "cell_type": "code",
   "execution_count": 23,
   "metadata": {},
   "outputs": [
    {
     "data": {
      "text/plain": [
       "Innocentiapark/Oberstraße         580\n",
       "Universität / Moorweidenstraße    557\n",
       "Allende-Platz/Grindelhof          277\n",
       "Wartenau / Lübecker Straße        276\n",
       "Zentralbibliothek / Münzstraße    200\n",
       "Name: END_RENTAL_ZONE, dtype: int64"
      ]
     },
     "execution_count": 23,
     "metadata": {},
     "output_type": "execute_result"
    }
   ],
   "source": [
    "df[df.CUSTOMER_HAL_ID == top_users.index[0]].END_RENTAL_ZONE.value_counts().head()"
   ]
  },
  {
   "cell_type": "markdown",
   "metadata": {},
   "source": [
    "## For specific relation"
   ]
  },
  {
   "cell_type": "code",
   "execution_count": 24,
   "metadata": {},
   "outputs": [
    {
     "name": "stdout",
     "output_type": "stream",
     "text": [
      "D87AD46A05C9E32541AE6DA8B4258B3ADBABEFD5    386\n",
      "941942F01D6D806D7A2C019A8FE89AB11661CB6C    284\n",
      "7F7D6B690A59D1C0CD4E28B4762093EC839635E0    256\n",
      "BE0F4158F073A94873C7E179A08CFE3A4C9C4637    246\n",
      "70A1F0558DBEE5BA6F382C8F6592E5D15B0721C6    228\n",
      "Name: CUSTOMER_HAL_ID, dtype: int64\n"
     ]
    }
   ],
   "source": [
    "top_users = df_rel.CUSTOMER_HAL_ID.value_counts()\n",
    "print(top_users.head())"
   ]
  },
  {
   "cell_type": "code",
   "execution_count": 25,
   "metadata": {},
   "outputs": [
    {
     "data": {
      "text/plain": [
       "Am Kaiserkai/Großer Grasbrook                  442\n",
       "U-Bahn Baumwall                                406\n",
       "Rödingsmarkt / Großer Burstah                   99\n",
       "Auf dem Sande/Kehrwieder-MiniaturWunderland     19\n",
       "Mönckebergstraße / Rosenstraße                  15\n",
       "Name: START_RENTAL_ZONE, dtype: int64"
      ]
     },
     "execution_count": 25,
     "metadata": {},
     "output_type": "execute_result"
    }
   ],
   "source": [
    "df[df.CUSTOMER_HAL_ID == top_users.index[0]].START_RENTAL_ZONE.value_counts().head()"
   ]
  },
  {
   "cell_type": "code",
   "execution_count": 26,
   "metadata": {},
   "outputs": [
    {
     "data": {
      "text/plain": [
       "Am Kaiserkai/Großer Grasbrook     527\n",
       "U-Bahn Baumwall                   204\n",
       "Rödingsmarkt / Großer Burstah     179\n",
       "Mönckebergstraße / Rosenstraße     33\n",
       "Schulterblatt/Eifflerstraße        24\n",
       "Name: END_RENTAL_ZONE, dtype: int64"
      ]
     },
     "execution_count": 26,
     "metadata": {},
     "output_type": "execute_result"
    }
   ],
   "source": [
    "df[df.CUSTOMER_HAL_ID == top_users.index[0]].END_RENTAL_ZONE.value_counts().head()"
   ]
  },
  {
   "cell_type": "markdown",
   "metadata": {},
   "source": [
    "## Popular ZONES"
   ]
  },
  {
   "cell_type": "code",
   "execution_count": 27,
   "metadata": {},
   "outputs": [],
   "source": [
    "df.START_RENTAL_ZONE.value_counts().reset_index()\n",
    "df_origin_freq = df.START_RENTAL_ZONE.value_counts().reset_index()\n",
    "df_origin_freq.columns = ['RENTAL_ZONE','start']\n",
    "df_dest_freq = df.END_RENTAL_ZONE.value_counts().reset_index()\n",
    "df_dest_freq.columns = ['RENTAL_ZONE','end']\n",
    "\n",
    "df_merged = pd.merge(df_origin_freq, df_dest_freq, on='RENTAL_ZONE')\n",
    "df_merged['diff'] = df_merged.end - df_merged.start"
   ]
  },
  {
   "cell_type": "markdown",
   "metadata": {},
   "source": [
    "### High Bike Demand (Hubs)"
   ]
  },
  {
   "cell_type": "code",
   "execution_count": 28,
   "metadata": {},
   "outputs": [
    {
     "data": {
      "text/html": [
       "<div>\n",
       "<style scoped>\n",
       "    .dataframe tbody tr th:only-of-type {\n",
       "        vertical-align: middle;\n",
       "    }\n",
       "\n",
       "    .dataframe tbody tr th {\n",
       "        vertical-align: top;\n",
       "    }\n",
       "\n",
       "    .dataframe thead th {\n",
       "        text-align: right;\n",
       "    }\n",
       "</style>\n",
       "<table border=\"1\" class=\"dataframe\">\n",
       "  <thead>\n",
       "    <tr style=\"text-align: right;\">\n",
       "      <th></th>\n",
       "      <th>RENTAL_ZONE</th>\n",
       "      <th>start</th>\n",
       "      <th>end</th>\n",
       "      <th>diff</th>\n",
       "    </tr>\n",
       "  </thead>\n",
       "  <tbody>\n",
       "    <tr>\n",
       "      <th>13</th>\n",
       "      <td>Hauptbahnhof West / Glockengießer Wall</td>\n",
       "      <td>112500</td>\n",
       "      <td>97210</td>\n",
       "      <td>-15290</td>\n",
       "    </tr>\n",
       "    <tr>\n",
       "      <th>11</th>\n",
       "      <td>Hauptbahnhof Ost / Hachmannplatz</td>\n",
       "      <td>115785</td>\n",
       "      <td>103199</td>\n",
       "      <td>-12586</td>\n",
       "    </tr>\n",
       "    <tr>\n",
       "      <th>36</th>\n",
       "      <td>Bahnhof Altona West / Busbahnhof</td>\n",
       "      <td>82594</td>\n",
       "      <td>73789</td>\n",
       "      <td>-8805</td>\n",
       "    </tr>\n",
       "    <tr>\n",
       "      <th>27</th>\n",
       "      <td>Berliner Tor / Berlinertordamm</td>\n",
       "      <td>90159</td>\n",
       "      <td>83883</td>\n",
       "      <td>-6276</td>\n",
       "    </tr>\n",
       "    <tr>\n",
       "      <th>18</th>\n",
       "      <td>Bahnhof Altona Ost/Max-Brauer-Allee</td>\n",
       "      <td>100374</td>\n",
       "      <td>94238</td>\n",
       "      <td>-6136</td>\n",
       "    </tr>\n",
       "  </tbody>\n",
       "</table>\n",
       "</div>"
      ],
      "text/plain": [
       "                               RENTAL_ZONE   start     end   diff\n",
       "13  Hauptbahnhof West / Glockengießer Wall  112500   97210 -15290\n",
       "11        Hauptbahnhof Ost / Hachmannplatz  115785  103199 -12586\n",
       "36        Bahnhof Altona West / Busbahnhof   82594   73789  -8805\n",
       "27          Berliner Tor / Berlinertordamm   90159   83883  -6276\n",
       "18     Bahnhof Altona Ost/Max-Brauer-Allee  100374   94238  -6136"
      ]
     },
     "execution_count": 28,
     "metadata": {},
     "output_type": "execute_result"
    }
   ],
   "source": [
    "df_merged.sort_values('diff').head()"
   ]
  },
  {
   "cell_type": "markdown",
   "metadata": {},
   "source": [
    "### High Bike Supply (Sinks)"
   ]
  },
  {
   "cell_type": "code",
   "execution_count": 29,
   "metadata": {},
   "outputs": [
    {
     "data": {
      "text/html": [
       "<div>\n",
       "<style scoped>\n",
       "    .dataframe tbody tr th:only-of-type {\n",
       "        vertical-align: middle;\n",
       "    }\n",
       "\n",
       "    .dataframe tbody tr th {\n",
       "        vertical-align: top;\n",
       "    }\n",
       "\n",
       "    .dataframe thead th {\n",
       "        text-align: right;\n",
       "    }\n",
       "</style>\n",
       "<table border=\"1\" class=\"dataframe\">\n",
       "  <thead>\n",
       "    <tr style=\"text-align: right;\">\n",
       "      <th></th>\n",
       "      <th>RENTAL_ZONE</th>\n",
       "      <th>start</th>\n",
       "      <th>end</th>\n",
       "      <th>diff</th>\n",
       "    </tr>\n",
       "  </thead>\n",
       "  <tbody>\n",
       "    <tr>\n",
       "      <th>8</th>\n",
       "      <td>Landungsbrücke/Hafentor</td>\n",
       "      <td>119522</td>\n",
       "      <td>131155</td>\n",
       "      <td>11633</td>\n",
       "    </tr>\n",
       "    <tr>\n",
       "      <th>23</th>\n",
       "      <td>Am Kaiserkai/Großer Grasbrook</td>\n",
       "      <td>91343</td>\n",
       "      <td>99942</td>\n",
       "      <td>8599</td>\n",
       "    </tr>\n",
       "    <tr>\n",
       "      <th>14</th>\n",
       "      <td>Jungfernstieg / Neuer Jungfernstieg</td>\n",
       "      <td>111242</td>\n",
       "      <td>119509</td>\n",
       "      <td>8267</td>\n",
       "    </tr>\n",
       "    <tr>\n",
       "      <th>105</th>\n",
       "      <td>Mannesallee/Veringstraße</td>\n",
       "      <td>32671</td>\n",
       "      <td>39630</td>\n",
       "      <td>6959</td>\n",
       "    </tr>\n",
       "    <tr>\n",
       "      <th>3</th>\n",
       "      <td>Jungfernstieg / Ballindamm</td>\n",
       "      <td>130025</td>\n",
       "      <td>136375</td>\n",
       "      <td>6350</td>\n",
       "    </tr>\n",
       "  </tbody>\n",
       "</table>\n",
       "</div>"
      ],
      "text/plain": [
       "                             RENTAL_ZONE   start     end   diff\n",
       "8                Landungsbrücke/Hafentor  119522  131155  11633\n",
       "23         Am Kaiserkai/Großer Grasbrook   91343   99942   8599\n",
       "14   Jungfernstieg / Neuer Jungfernstieg  111242  119509   8267\n",
       "105             Mannesallee/Veringstraße   32671   39630   6959\n",
       "3             Jungfernstieg / Ballindamm  130025  136375   6350"
      ]
     },
     "execution_count": 29,
     "metadata": {},
     "output_type": "execute_result"
    }
   ],
   "source": [
    "df_merged.sort_values('diff', ascending=False).head()"
   ]
  },
  {
   "cell_type": "markdown",
   "metadata": {},
   "source": [
    "### Balanced Demand and Supply"
   ]
  },
  {
   "cell_type": "code",
   "execution_count": 30,
   "metadata": {},
   "outputs": [
    {
     "data": {
      "text/html": [
       "<div>\n",
       "<style scoped>\n",
       "    .dataframe tbody tr th:only-of-type {\n",
       "        vertical-align: middle;\n",
       "    }\n",
       "\n",
       "    .dataframe tbody tr th {\n",
       "        vertical-align: top;\n",
       "    }\n",
       "\n",
       "    .dataframe thead th {\n",
       "        text-align: right;\n",
       "    }\n",
       "</style>\n",
       "<table border=\"1\" class=\"dataframe\">\n",
       "  <thead>\n",
       "    <tr style=\"text-align: right;\">\n",
       "      <th></th>\n",
       "      <th>RENTAL_ZONE</th>\n",
       "      <th>start</th>\n",
       "      <th>end</th>\n",
       "      <th>diff</th>\n",
       "    </tr>\n",
       "  </thead>\n",
       "  <tbody>\n",
       "    <tr>\n",
       "      <th>186</th>\n",
       "      <td>Gründgensstraße/César-Klein-Ring</td>\n",
       "      <td>3430</td>\n",
       "      <td>3430</td>\n",
       "      <td>0</td>\n",
       "    </tr>\n",
       "    <tr>\n",
       "      <th>214</th>\n",
       "      <td>BSC Testterminal Halle</td>\n",
       "      <td>23</td>\n",
       "      <td>23</td>\n",
       "      <td>0</td>\n",
       "    </tr>\n",
       "    <tr>\n",
       "      <th>47</th>\n",
       "      <td>Leinpfad/Fernsicht</td>\n",
       "      <td>73597</td>\n",
       "      <td>73603</td>\n",
       "      <td>6</td>\n",
       "    </tr>\n",
       "    <tr>\n",
       "      <th>174</th>\n",
       "      <td>Röntgenstraße/Philips</td>\n",
       "      <td>6645</td>\n",
       "      <td>6652</td>\n",
       "      <td>7</td>\n",
       "    </tr>\n",
       "    <tr>\n",
       "      <th>197</th>\n",
       "      <td>Neuländer Kamp/Eurofins</td>\n",
       "      <td>2347</td>\n",
       "      <td>2357</td>\n",
       "      <td>10</td>\n",
       "    </tr>\n",
       "    <tr>\n",
       "      <th>96</th>\n",
       "      <td>Steinstraße / Deichtorplatz</td>\n",
       "      <td>36275</td>\n",
       "      <td>36289</td>\n",
       "      <td>14</td>\n",
       "    </tr>\n",
       "    <tr>\n",
       "      <th>64</th>\n",
       "      <td>Lange Reihe / Kirchenallee</td>\n",
       "      <td>55607</td>\n",
       "      <td>55624</td>\n",
       "      <td>17</td>\n",
       "    </tr>\n",
       "    <tr>\n",
       "      <th>144</th>\n",
       "      <td>Versmannstraße/Am Hannoverschen Bahnhof</td>\n",
       "      <td>15499</td>\n",
       "      <td>15517</td>\n",
       "      <td>18</td>\n",
       "    </tr>\n",
       "    <tr>\n",
       "      <th>181</th>\n",
       "      <td>Friedrich-Ebert-Damm/Helbingtwiete</td>\n",
       "      <td>4162</td>\n",
       "      <td>4181</td>\n",
       "      <td>19</td>\n",
       "    </tr>\n",
       "    <tr>\n",
       "      <th>173</th>\n",
       "      <td>Hindenburgstraße/Möringbogen</td>\n",
       "      <td>6990</td>\n",
       "      <td>7015</td>\n",
       "      <td>25</td>\n",
       "    </tr>\n",
       "  </tbody>\n",
       "</table>\n",
       "</div>"
      ],
      "text/plain": [
       "                                 RENTAL_ZONE  start    end  diff\n",
       "186         Gründgensstraße/César-Klein-Ring   3430   3430     0\n",
       "214                   BSC Testterminal Halle     23     23     0\n",
       "47                        Leinpfad/Fernsicht  73597  73603     6\n",
       "174                    Röntgenstraße/Philips   6645   6652     7\n",
       "197                 Neuländer Kamp/Eurofins    2347   2357    10\n",
       "96               Steinstraße / Deichtorplatz  36275  36289    14\n",
       "64                Lange Reihe / Kirchenallee  55607  55624    17\n",
       "144  Versmannstraße/Am Hannoverschen Bahnhof  15499  15517    18\n",
       "181       Friedrich-Ebert-Damm/Helbingtwiete   4162   4181    19\n",
       "173             Hindenburgstraße/Möringbogen   6990   7015    25"
      ]
     },
     "execution_count": 30,
     "metadata": {},
     "output_type": "execute_result"
    }
   ],
   "source": [
    "df_merged.sort_values('diff')[110:120]"
   ]
  },
  {
   "cell_type": "markdown",
   "metadata": {},
   "source": [
    "## Investigate Many Days"
   ]
  },
  {
   "cell_type": "code",
   "execution_count": 31,
   "metadata": {},
   "outputs": [
    {
     "data": {
      "image/png": "[encoded data removed]",
      "text/plain": [
       "<Figure size 432x288 with 1 Axes>"
      ]
     },
     "metadata": {
      "needs_background": "light"
     },
     "output_type": "display_data"
    },
    {
     "data": {
      "image/png": "[encoded data removed]",
      "text/plain": [
       "<Figure size 432x288 with 1 Axes>"
      ]
     },
     "metadata": {
      "needs_background": "light"
     },
     "output_type": "display_data"
    },
    {
     "data": {
      "image/png": "[encoded data removed]",
      "text/plain": [
       "<Figure size 432x288 with 1 Axes>"
      ]
     },
     "metadata": {
      "needs_background": "light"
     },
     "output_type": "display_data"
    },
    {
     "data": {
      "image/png": "[encoded data removed]",
      "text/plain": [
       "<Figure size 432x288 with 1 Axes>"
      ]
     },
     "metadata": {
      "needs_background": "light"
     },
     "output_type": "display_data"
    }
   ],
   "source": [
    "from datetime import date, datetime\n",
    "from matplotlib.dates import MonthLocator\n",
    "\n",
    "def plot_bike_trend(zone):\n",
    "    df_origin = df[(df.START_RENTAL_ZONE == zone) & (df.DATE_BOOKING.dt.date >= date(2017, 1, 1))]\n",
    "    df_dest   = df[(df.END_RENTAL_ZONE == zone) & (df.DATE_BOOKING.dt.date >= date(2017, 1, 1))]\n",
    "\n",
    "    df_rental_times = (\n",
    "        pd.concat([pd.DataFrame({'DATE_BOOKING':df_origin.DATE_BOOKING.values, 'bikes':-np.ones(len(df_origin))}),\n",
    "                   pd.DataFrame({'DATE_BOOKING':df_dest.DATE_BOOKING.values, 'bikes':np.ones(len(df_dest))})]\n",
    "        ).sort_values('DATE_BOOKING')\n",
    "    )\n",
    "    df_rental_times['sum'] = df_rental_times.bikes.cumsum()\n",
    "\n",
    "    fig, ax = plt.subplots()\n",
    "    pd.Series(index=df_rental_times.DATE_BOOKING.values, data=df_rental_times['sum'].values).plot();\n",
    "    plt.title('#Bikes at ' + zone);\n",
    "    ax.xaxis.set_major_locator(MonthLocator())\n",
    "\n",
    "plot_bike_trend('U-Bahn Baumwall')\n",
    "#plot_bike_trend('Landungsbrücke/Hafentor')\n",
    "plot_bike_trend('Osterstraße/Heußweg')\n",
    "plot_bike_trend('Leinpfad/Fernsicht')\n",
    "plot_bike_trend('U-Bahn Schlump')\n",
    "#plot_bike_trend('Hauptbahnhof West / Glockengießer Wall')"
   ]
  },
  {
   "cell_type": "markdown",
   "metadata": {},
   "source": [
    "## Specific Origin\n",
    "\n",
    "### Compare booked vs. returned bikes"
   ]
  },
  {
   "cell_type": "code",
   "execution_count": 32,
   "metadata": {},
   "outputs": [],
   "source": [
    "#ZONE = 'U-Bahn Schlump'\n",
    "ZONE = 'Osterstraße/Heußweg'\n",
    "#ZONE = 'Hauptbahnhof West / Glockengießer Wall'\n",
    "df_origin_freq = df[df.START_RENTAL_ZONE == ZONE].booking_date.value_counts().sort_index().reset_index()\n",
    "df_origin_freq.columns = ['booking_date','start']\n",
    "df_dest_freq = df[df.END_RENTAL_ZONE == ZONE].booking_date.value_counts().sort_index().reset_index()\n",
    "df_dest_freq.columns = ['booking_date','end']"
   ]
  },
  {
   "cell_type": "code",
   "execution_count": 33,
   "metadata": {},
   "outputs": [
    {
     "data": {
      "text/html": [
       "<div>\n",
       "<style scoped>\n",
       "    .dataframe tbody tr th:only-of-type {\n",
       "        vertical-align: middle;\n",
       "    }\n",
       "\n",
       "    .dataframe tbody tr th {\n",
       "        vertical-align: top;\n",
       "    }\n",
       "\n",
       "    .dataframe thead th {\n",
       "        text-align: right;\n",
       "    }\n",
       "</style>\n",
       "<table border=\"1\" class=\"dataframe\">\n",
       "  <thead>\n",
       "    <tr style=\"text-align: right;\">\n",
       "      <th></th>\n",
       "      <th>booking_date</th>\n",
       "      <th>start</th>\n",
       "      <th>end</th>\n",
       "      <th>diff</th>\n",
       "    </tr>\n",
       "  </thead>\n",
       "  <tbody>\n",
       "    <tr>\n",
       "      <th>198</th>\n",
       "      <td>2017-04-30</td>\n",
       "      <td>107</td>\n",
       "      <td>87</td>\n",
       "      <td>-20</td>\n",
       "    </tr>\n",
       "    <tr>\n",
       "      <th>179</th>\n",
       "      <td>2017-04-11</td>\n",
       "      <td>90</td>\n",
       "      <td>71</td>\n",
       "      <td>-19</td>\n",
       "    </tr>\n",
       "    <tr>\n",
       "      <th>172</th>\n",
       "      <td>2017-04-04</td>\n",
       "      <td>84</td>\n",
       "      <td>68</td>\n",
       "      <td>-16</td>\n",
       "    </tr>\n",
       "    <tr>\n",
       "      <th>190</th>\n",
       "      <td>2017-04-22</td>\n",
       "      <td>56</td>\n",
       "      <td>42</td>\n",
       "      <td>-14</td>\n",
       "    </tr>\n",
       "    <tr>\n",
       "      <th>65</th>\n",
       "      <td>2016-12-18</td>\n",
       "      <td>39</td>\n",
       "      <td>26</td>\n",
       "      <td>-13</td>\n",
       "    </tr>\n",
       "  </tbody>\n",
       "</table>\n",
       "</div>"
      ],
      "text/plain": [
       "    booking_date  start  end  diff\n",
       "198   2017-04-30    107   87   -20\n",
       "179   2017-04-11     90   71   -19\n",
       "172   2017-04-04     84   68   -16\n",
       "190   2017-04-22     56   42   -14\n",
       "65    2016-12-18     39   26   -13"
      ]
     },
     "execution_count": 33,
     "metadata": {},
     "output_type": "execute_result"
    }
   ],
   "source": [
    "df_merged = pd.merge(df_origin_freq, df_dest_freq, on='booking_date')\n",
    "df_merged['diff'] = df_merged.end - df_merged.start\n",
    "df_merged.sort_values('diff').head()"
   ]
  },
  {
   "cell_type": "markdown",
   "metadata": {},
   "source": [
    "## Investigate single day"
   ]
  },
  {
   "cell_type": "code",
   "execution_count": 34,
   "metadata": {},
   "outputs": [],
   "source": [
    "from datetime import date, datetime\n",
    "\n",
    "my_date=pd.to_datetime('2016-03-12').date()\n",
    "my_date=df_merged.sort_values('diff').booking_date.values[1]\n",
    "\n",
    "df_origin = df[(df.START_RENTAL_ZONE == ZONE) & (df.booking_date == my_date)]\n",
    "df_dest = df[(df.END_RENTAL_ZONE == ZONE) & (df.booking_date == my_date)]"
   ]
  },
  {
   "cell_type": "code",
   "execution_count": 35,
   "metadata": {},
   "outputs": [],
   "source": [
    "s_lessbikes = pd.Series([-1-i for i in range(len(df_origin))], index=df_origin.DATE_BOOKING.sort_values())\n",
    "s_morebikes = pd.Series([1+i for i in range(len(df_dest))], index=df_dest.DATE_BOOKING.sort_values())\n",
    "s_cumsum = pd.concat([\n",
    "    pd.Series(index=df_origin.DATE_BOOKING.values, data=-np.ones(len(df_origin))),\n",
    "    pd.Series(index=df_dest.DATE_BOOKING.values, data=np.ones(len(df_dest)))\n",
    "    ]).sort_index().cumsum()"
   ]
  },
  {
   "cell_type": "code",
   "execution_count": 36,
   "metadata": {},
   "outputs": [
    {
     "name": "stderr",
     "output_type": "stream",
     "text": [
      "/home/goerlitz/.local/lib/python3.6/site-packages/scipy/stats/stats.py:1713: FutureWarning: Using a non-tuple sequence for multidimensional indexing is deprecated; use `arr[tuple(seq)]` instead of `arr[seq]`. In the future this will be interpreted as an array index, `arr[np.array(seq)]`, which will result either in an error or a different result.\n",
      "  return np.add.reduce(sorted[indexer] * weights, axis=axis) / sumval\n"
     ]
    },
    {
     "data": {
      "image/png": "[encoded data removed]",
      "text/plain": [
       "<Figure size 432x288 with 2 Axes>"
      ]
     },
     "metadata": {
      "needs_background": "light"
     },
     "output_type": "display_data"
    }
   ],
   "source": [
    "fig, (ax1, ax2) = plt.subplots(2, sharex=True)\n",
    "sns.lineplot(y=s_lessbikes.values, x=s_lessbikes.index, label='less bikes (start)', ax=ax1)\n",
    "sns.lineplot(y=s_morebikes.values, x=s_morebikes.index, label='more bikes (end)', ax=ax1)\n",
    "ax1.set_title('Started and Finished Bookings at ' + ZONE);\n",
    "sns.lineplot(y=s_cumsum.values, x= s_cumsum.index, ax=ax2)\n",
    "fig.autofmt_xdate()"
   ]
  },
  {
   "cell_type": "markdown",
   "metadata": {},
   "source": [
    "# Bikes"
   ]
  },
  {
   "cell_type": "code",
   "execution_count": 37,
   "metadata": {},
   "outputs": [
    {
     "data": {
      "text/plain": [
       "Allende-Platz/Grindelhof               152\n",
       "Schulterblatt/Eifflerstraße            149\n",
       "Sternschanze / Eingang Dänenweg        107\n",
       "Lange Reihe / Lohmühlenpark            105\n",
       "Jungfernstieg / Neuer Jungfernstieg    104\n",
       "Name: START_RENTAL_ZONE, dtype: int64"
      ]
     },
     "execution_count": 37,
     "metadata": {},
     "output_type": "execute_result"
    }
   ],
   "source": [
    "# the most used bike and it's most frequent zones\n",
    "top_bike = df.VEHICLE_HAL_ID.value_counts().index[0]\n",
    "\n",
    "df[df.VEHICLE_HAL_ID == top_bike].START_RENTAL_ZONE.value_counts().head()"
   ]
  },
  {
   "cell_type": "markdown",
   "metadata": {},
   "source": [
    "# Bike Relocations\n",
    "\n",
    "Goal: Identify gaps in bike itineraries which imply that a bike was relocated (transported by 'pickup' car) from one zone to another without a booking."
   ]
  },
  {
   "cell_type": "code",
   "execution_count": 38,
   "metadata": {},
   "outputs": [],
   "source": [
    "cols = ['VEHICLE_HAL_ID','DATE_BOOKING', 'START_RENTAL_ZONE', 'END_RENTAL_ZONE']\n",
    "\n",
    "# find number of bike bookings which don't match previous END_RENTAL_ZONE.\n",
    "df_itinerary = df[cols].sort_values(['VEHICLE_HAL_ID','DATE_BOOKING'])\n",
    "df_itinerary['last_end'] = df_itinerary.groupby('VEHICLE_HAL_ID')['END_RENTAL_ZONE'].shift(1)\n",
    "df_itinerary['gap'] = df_itinerary.last_end.notnull() & (df_itinerary.last_end != df_itinerary.START_RENTAL_ZONE)"
   ]
  },
  {
   "cell_type": "code",
   "execution_count": 39,
   "metadata": {},
   "outputs": [],
   "source": [
    "df_bike_trips = df_itinerary.groupby('VEHICLE_HAL_ID').agg({'gap':['count','sum']})\n",
    "df_bike_trips.columns = ['total', 'gap']"
   ]
  },
  {
   "cell_type": "code",
   "execution_count": 40,
   "metadata": {},
   "outputs": [
    {
     "data": {
      "text/html": [
       "<div>\n",
       "<style scoped>\n",
       "    .dataframe tbody tr th:only-of-type {\n",
       "        vertical-align: middle;\n",
       "    }\n",
       "\n",
       "    .dataframe tbody tr th {\n",
       "        vertical-align: top;\n",
       "    }\n",
       "\n",
       "    .dataframe thead th {\n",
       "        text-align: right;\n",
       "    }\n",
       "</style>\n",
       "<table border=\"1\" class=\"dataframe\">\n",
       "  <thead>\n",
       "    <tr style=\"text-align: right;\">\n",
       "      <th></th>\n",
       "      <th>metric</th>\n",
       "      <th>value</th>\n",
       "      <th>percent</th>\n",
       "    </tr>\n",
       "  </thead>\n",
       "  <tbody>\n",
       "    <tr>\n",
       "      <th>0</th>\n",
       "      <td>total</td>\n",
       "      <td>8942261.0</td>\n",
       "      <td>98.041465</td>\n",
       "    </tr>\n",
       "    <tr>\n",
       "      <th>1</th>\n",
       "      <td>gap</td>\n",
       "      <td>178636.0</td>\n",
       "      <td>1.958535</td>\n",
       "    </tr>\n",
       "  </tbody>\n",
       "</table>\n",
       "</div>"
      ],
      "text/plain": [
       "  metric      value    percent\n",
       "0  total  8942261.0  98.041465\n",
       "1    gap   178636.0   1.958535"
      ]
     },
     "execution_count": 40,
     "metadata": {},
     "output_type": "execute_result"
    }
   ],
   "source": [
    "stats = df_bike_trips.sum().reset_index()\n",
    "stats.columns = ['metric','value']\n",
    "stats['percent'] = stats.value / sum(stats.value) * 100\n",
    "stats"
   ]
  },
  {
   "cell_type": "code",
   "execution_count": 41,
   "metadata": {},
   "outputs": [
    {
     "data": {
      "text/html": [
       "<div>\n",
       "<style scoped>\n",
       "    .dataframe tbody tr th:only-of-type {\n",
       "        vertical-align: middle;\n",
       "    }\n",
       "\n",
       "    .dataframe tbody tr th {\n",
       "        vertical-align: top;\n",
       "    }\n",
       "\n",
       "    .dataframe thead th {\n",
       "        text-align: right;\n",
       "    }\n",
       "</style>\n",
       "<table border=\"1\" class=\"dataframe\">\n",
       "  <thead>\n",
       "    <tr style=\"text-align: right;\">\n",
       "      <th></th>\n",
       "      <th>VEHICLE_HAL_ID</th>\n",
       "      <th>DATE_BOOKING</th>\n",
       "      <th>START_RENTAL_ZONE</th>\n",
       "      <th>END_RENTAL_ZONE</th>\n",
       "      <th>last_end</th>\n",
       "      <th>gap</th>\n",
       "    </tr>\n",
       "  </thead>\n",
       "  <tbody>\n",
       "    <tr>\n",
       "      <th>7628219</th>\n",
       "      <td>106022</td>\n",
       "      <td>2016-10-27 15:22:32</td>\n",
       "      <td>Burgstraße/Hammer Landstraße</td>\n",
       "      <td>Hasselbrookstraße/Papenstraße</td>\n",
       "      <td>NaN</td>\n",
       "      <td>False</td>\n",
       "    </tr>\n",
       "    <tr>\n",
       "      <th>7630307</th>\n",
       "      <td>106022</td>\n",
       "      <td>2016-10-27 19:04:09</td>\n",
       "      <td>Lange Reihe / Kirchenallee</td>\n",
       "      <td>Eduard-Rhein-Ufer / Schwanenwik</td>\n",
       "      <td>Hasselbrookstraße/Papenstraße</td>\n",
       "      <td>True</td>\n",
       "    </tr>\n",
       "    <tr>\n",
       "      <th>7630785</th>\n",
       "      <td>106022</td>\n",
       "      <td>2016-10-27 19:24:41</td>\n",
       "      <td>Eduard-Rhein-Ufer / Schwanenwik</td>\n",
       "      <td>Bartholomäusstraße/Beim Alten Schützenhof</td>\n",
       "      <td>Eduard-Rhein-Ufer / Schwanenwik</td>\n",
       "      <td>False</td>\n",
       "    </tr>\n",
       "    <tr>\n",
       "      <th>7631470</th>\n",
       "      <td>106022</td>\n",
       "      <td>2016-10-27 20:57:31</td>\n",
       "      <td>Bartholomäusstraße/Beim Alten Schützenhof</td>\n",
       "      <td>Schleidenstraße/Osterbekstraße</td>\n",
       "      <td>Bartholomäusstraße/Beim Alten Schützenhof</td>\n",
       "      <td>False</td>\n",
       "    </tr>\n",
       "    <tr>\n",
       "      <th>7643762</th>\n",
       "      <td>106022</td>\n",
       "      <td>2016-10-29 15:18:30</td>\n",
       "      <td>Wiesendamm/Roggenkamp</td>\n",
       "      <td>Planetarium/Hindenburgstraße</td>\n",
       "      <td>Schleidenstraße/Osterbekstraße</td>\n",
       "      <td>True</td>\n",
       "    </tr>\n",
       "  </tbody>\n",
       "</table>\n",
       "</div>"
      ],
      "text/plain": [
       "         VEHICLE_HAL_ID        DATE_BOOKING  \\\n",
       "7628219          106022 2016-10-27 15:22:32   \n",
       "7630307          106022 2016-10-27 19:04:09   \n",
       "7630785          106022 2016-10-27 19:24:41   \n",
       "7631470          106022 2016-10-27 20:57:31   \n",
       "7643762          106022 2016-10-29 15:18:30   \n",
       "\n",
       "                                 START_RENTAL_ZONE  \\\n",
       "7628219               Burgstraße/Hammer Landstraße   \n",
       "7630307                 Lange Reihe / Kirchenallee   \n",
       "7630785            Eduard-Rhein-Ufer / Schwanenwik   \n",
       "7631470  Bartholomäusstraße/Beim Alten Schützenhof   \n",
       "7643762                      Wiesendamm/Roggenkamp   \n",
       "\n",
       "                                   END_RENTAL_ZONE  \\\n",
       "7628219              Hasselbrookstraße/Papenstraße   \n",
       "7630307            Eduard-Rhein-Ufer / Schwanenwik   \n",
       "7630785  Bartholomäusstraße/Beim Alten Schützenhof   \n",
       "7631470             Schleidenstraße/Osterbekstraße   \n",
       "7643762               Planetarium/Hindenburgstraße   \n",
       "\n",
       "                                          last_end    gap  \n",
       "7628219                                        NaN  False  \n",
       "7630307              Hasselbrookstraße/Papenstraße   True  \n",
       "7630785            Eduard-Rhein-Ufer / Schwanenwik  False  \n",
       "7631470  Bartholomäusstraße/Beim Alten Schützenhof  False  \n",
       "7643762             Schleidenstraße/Osterbekstraße   True  "
      ]
     },
     "execution_count": 41,
     "metadata": {},
     "output_type": "execute_result"
    }
   ],
   "source": [
    "df_itinerary.head()"
   ]
  },
  {
   "cell_type": "markdown",
   "metadata": {},
   "source": [
    "## Top bike placement zones"
   ]
  },
  {
   "cell_type": "code",
   "execution_count": 42,
   "metadata": {},
   "outputs": [
    {
     "data": {
      "text/plain": [
       "Hauptbahnhof West / Glockengießer Wall    15379\n",
       "Hauptbahnhof Ost / Hachmannplatz          13064\n",
       "Bahnhof Altona West / Busbahnhof           8960\n",
       "Berliner Tor / Berlinertordamm             6548\n",
       "Bahnhof Altona Ost/Max-Brauer-Allee        6327\n",
       "Name: START_RENTAL_ZONE, dtype: int64"
      ]
     },
     "execution_count": 42,
     "metadata": {},
     "output_type": "execute_result"
    }
   ],
   "source": [
    "df_itinerary[df_itinerary.gap].START_RENTAL_ZONE.value_counts().head()"
   ]
  },
  {
   "cell_type": "markdown",
   "metadata": {},
   "source": [
    "## Top bike pick-up zones "
   ]
  },
  {
   "cell_type": "code",
   "execution_count": 43,
   "metadata": {},
   "outputs": [
    {
     "data": {
      "text/plain": [
       "Landungsbrücke/Hafentor                11933\n",
       "Am Kaiserkai/Großer Grasbrook           9076\n",
       "Jungfernstieg / Neuer Jungfernstieg     8569\n",
       "Mannesallee/Veringstraße                6991\n",
       "Jungfernstieg / Ballindamm              6817\n",
       "Name: last_end, dtype: int64"
      ]
     },
     "execution_count": 43,
     "metadata": {},
     "output_type": "execute_result"
    }
   ],
   "source": [
    "df_itinerary[df_itinerary.gap].last_end.value_counts().head()"
   ]
  },
  {
   "cell_type": "markdown",
   "metadata": {},
   "source": [
    "## Top bike relocations"
   ]
  },
  {
   "cell_type": "code",
   "execution_count": 44,
   "metadata": {},
   "outputs": [
    {
     "data": {
      "text/html": [
       "<div>\n",
       "<style scoped>\n",
       "    .dataframe tbody tr th:only-of-type {\n",
       "        vertical-align: middle;\n",
       "    }\n",
       "\n",
       "    .dataframe tbody tr th {\n",
       "        vertical-align: top;\n",
       "    }\n",
       "\n",
       "    .dataframe thead th {\n",
       "        text-align: right;\n",
       "    }\n",
       "</style>\n",
       "<table border=\"1\" class=\"dataframe\">\n",
       "  <thead>\n",
       "    <tr style=\"text-align: right;\">\n",
       "      <th></th>\n",
       "      <th>last_end</th>\n",
       "      <th>START_RENTAL_ZONE</th>\n",
       "      <th>0</th>\n",
       "    </tr>\n",
       "  </thead>\n",
       "  <tbody>\n",
       "    <tr>\n",
       "      <th>8790</th>\n",
       "      <td>Landungsbrücke/Hafentor</td>\n",
       "      <td>Bahnhof Altona West / Busbahnhof</td>\n",
       "      <td>1122</td>\n",
       "    </tr>\n",
       "    <tr>\n",
       "      <th>10049</th>\n",
       "      <td>Mannesallee/Veringstraße</td>\n",
       "      <td>Hauptbahnhof West / Glockengießer Wall</td>\n",
       "      <td>1015</td>\n",
       "    </tr>\n",
       "    <tr>\n",
       "      <th>582</th>\n",
       "      <td>Am Kaiserkai/Großer Grasbrook</td>\n",
       "      <td>Hauptbahnhof West / Glockengießer Wall</td>\n",
       "      <td>982</td>\n",
       "    </tr>\n",
       "    <tr>\n",
       "      <th>8854</th>\n",
       "      <td>Landungsbrücke/Hafentor</td>\n",
       "      <td>Hauptbahnhof West / Glockengießer Wall</td>\n",
       "      <td>854</td>\n",
       "    </tr>\n",
       "    <tr>\n",
       "      <th>8789</th>\n",
       "      <td>Landungsbrücke/Hafentor</td>\n",
       "      <td>Bahnhof Altona Ost/Max-Brauer-Allee</td>\n",
       "      <td>832</td>\n",
       "    </tr>\n",
       "  </tbody>\n",
       "</table>\n",
       "</div>"
      ],
      "text/plain": [
       "                            last_end                       START_RENTAL_ZONE  \\\n",
       "8790         Landungsbrücke/Hafentor        Bahnhof Altona West / Busbahnhof   \n",
       "10049       Mannesallee/Veringstraße  Hauptbahnhof West / Glockengießer Wall   \n",
       "582    Am Kaiserkai/Großer Grasbrook  Hauptbahnhof West / Glockengießer Wall   \n",
       "8854         Landungsbrücke/Hafentor  Hauptbahnhof West / Glockengießer Wall   \n",
       "8789         Landungsbrücke/Hafentor     Bahnhof Altona Ost/Max-Brauer-Allee   \n",
       "\n",
       "          0  \n",
       "8790   1122  \n",
       "10049  1015  \n",
       "582     982  \n",
       "8854    854  \n",
       "8789    832  "
      ]
     },
     "execution_count": 44,
     "metadata": {},
     "output_type": "execute_result"
    }
   ],
   "source": [
    "(df_itinerary[df_itinerary.gap]\n",
    " .groupby(['last_end', 'START_RENTAL_ZONE'])\n",
    " .size().reset_index()\n",
    " .sort_values(0, ascending=False)\n",
    ").head()"
   ]
  },
  {
   "cell_type": "markdown",
   "metadata": {},
   "source": [
    "## Booking Devices"
   ]
  },
  {
   "cell_type": "code",
   "execution_count": 45,
   "metadata": {},
   "outputs": [
    {
     "data": {
      "text/html": [
       "<div>\n",
       "<style scoped>\n",
       "    .dataframe tbody tr th:only-of-type {\n",
       "        vertical-align: middle;\n",
       "    }\n",
       "\n",
       "    .dataframe tbody tr th {\n",
       "        vertical-align: top;\n",
       "    }\n",
       "\n",
       "    .dataframe thead th {\n",
       "        text-align: right;\n",
       "    }\n",
       "</style>\n",
       "<table border=\"1\" class=\"dataframe\">\n",
       "  <thead>\n",
       "    <tr style=\"text-align: right;\">\n",
       "      <th></th>\n",
       "      <th>TECHNICAL_INCOME_CHANNEL</th>\n",
       "      <th>count</th>\n",
       "      <th>percent</th>\n",
       "    </tr>\n",
       "  </thead>\n",
       "  <tbody>\n",
       "    <tr>\n",
       "      <th>0</th>\n",
       "      <td>iPhone SRH</td>\n",
       "      <td>2285619</td>\n",
       "      <td>25.907600</td>\n",
       "    </tr>\n",
       "    <tr>\n",
       "      <th>1</th>\n",
       "      <td>Android SRH</td>\n",
       "      <td>1643372</td>\n",
       "      <td>18.627700</td>\n",
       "    </tr>\n",
       "    <tr>\n",
       "      <th>2</th>\n",
       "      <td>IVR</td>\n",
       "      <td>898882</td>\n",
       "      <td>10.188870</td>\n",
       "    </tr>\n",
       "    <tr>\n",
       "      <th>3</th>\n",
       "      <td>iPhone CAB</td>\n",
       "      <td>246892</td>\n",
       "      <td>2.798533</td>\n",
       "    </tr>\n",
       "    <tr>\n",
       "      <th>4</th>\n",
       "      <td>Android CAB</td>\n",
       "      <td>96776</td>\n",
       "      <td>1.096961</td>\n",
       "    </tr>\n",
       "    <tr>\n",
       "      <th>5</th>\n",
       "      <td>terminal HH_93 (-2215-)</td>\n",
       "      <td>74501</td>\n",
       "      <td>0.844472</td>\n",
       "    </tr>\n",
       "    <tr>\n",
       "      <th>6</th>\n",
       "      <td>Terminal HH_5 (-2132-)</td>\n",
       "      <td>58807</td>\n",
       "      <td>0.666580</td>\n",
       "    </tr>\n",
       "    <tr>\n",
       "      <th>7</th>\n",
       "      <td>Terminal HH_79 (-2323-)</td>\n",
       "      <td>55124</td>\n",
       "      <td>0.624833</td>\n",
       "    </tr>\n",
       "    <tr>\n",
       "      <th>8</th>\n",
       "      <td>Terminal HH_34 (-2541-)</td>\n",
       "      <td>53205</td>\n",
       "      <td>0.603081</td>\n",
       "    </tr>\n",
       "    <tr>\n",
       "      <th>9</th>\n",
       "      <td>Terminal HH_75 (-2364-)</td>\n",
       "      <td>52295</td>\n",
       "      <td>0.592766</td>\n",
       "    </tr>\n",
       "  </tbody>\n",
       "</table>\n",
       "</div>"
      ],
      "text/plain": [
       "  TECHNICAL_INCOME_CHANNEL    count    percent\n",
       "0               iPhone SRH  2285619  25.907600\n",
       "1              Android SRH  1643372  18.627700\n",
       "2                      IVR   898882  10.188870\n",
       "3               iPhone CAB   246892   2.798533\n",
       "4              Android CAB    96776   1.096961\n",
       "5  terminal HH_93 (-2215-)    74501   0.844472\n",
       "6   Terminal HH_5 (-2132-)    58807   0.666580\n",
       "7  Terminal HH_79 (-2323-)    55124   0.624833\n",
       "8  Terminal HH_34 (-2541-)    53205   0.603081\n",
       "9  Terminal HH_75 (-2364-)    52295   0.592766"
      ]
     },
     "execution_count": 45,
     "metadata": {},
     "output_type": "execute_result"
    }
   ],
   "source": [
    "df_device = df.TECHNICAL_INCOME_CHANNEL.value_counts().reset_index()\n",
    "df_device.columns = ['TECHNICAL_INCOME_CHANNEL', 'count']\n",
    "df_device['percent'] = df_device['count'] / sum(df_device['count'].values) * 100\n",
    "df_device.head(n=10)"
   ]
  }
 ],
 "metadata": {
  "kernelspec": {
   "display_name": "Python 3",
   "language": "python",
   "name": "python3"
  },
  "language_info": {
   "codemirror_mode": {
    "name": "ipython",
    "version": 3
   },
   "file_extension": ".py",
   "mimetype": "text/x-python",
   "name": "python",
   "nbconvert_exporter": "python",
   "pygments_lexer": "ipython3",
   "version": "3.6.7"
  }
 },
 "nbformat": 4,
 "nbformat_minor": 2
}
